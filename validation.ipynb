{
 "cells": [
  {
   "cell_type": "code",
   "execution_count": 1,
   "id": "4b48ef7a",
   "metadata": {},
   "outputs": [],
   "source": [
    "import numpy as np\n",
    "import matplotlib.pyplot as plt\n",
    "import pandas as pd\n",
    "import seaborn as sns"
   ]
  },
  {
   "cell_type": "code",
   "execution_count": 2,
   "id": "9e6289f3",
   "metadata": {},
   "outputs": [],
   "source": [
    "train = pd.read_excel(r'C:\\Users\\11ana\\Desktop\\Projects\\Input Well F1C.xlsx', sheet_name = 'Train')\n",
    "test = pd.read_excel(r'C:\\Users\\11ana\\Desktop\\Projects\\Input Well F1C.xlsx', sheet_name = 'Test')"
   ]
  },
  {
   "cell_type": "code",
   "execution_count": 3,
   "id": "b7090e32",
   "metadata": {},
   "outputs": [
    {
     "data": {
      "text/plain": [
       "<AxesSubplot:>"
      ]
     },
     "execution_count": 3,
     "metadata": {},
     "output_type": "execute_result"
    },
    {
     "data": {
      "image/png": "[encoded data removed]",
      "text/plain": [
       "<Figure size 432x288 with 2 Axes>"
      ]
     },
     "metadata": {
      "needs_background": "light"
     },
     "output_type": "display_data"
    }
   ],
   "source": [
    "sns.heatmap(train.corr(method='spearman'),cmap=\"copper\")"
   ]
  },
  {
   "cell_type": "code",
   "execution_count": 4,
   "id": "f5806535",
   "metadata": {},
   "outputs": [
    {
     "data": {
      "text/plain": [
       "<AxesSubplot:>"
      ]
     },
     "execution_count": 4,
     "metadata": {},
     "output_type": "execute_result"
    },
    {
     "data": {
      "image/png": "[encoded data removed]",
      "text/plain": [
       "<Figure size 432x288 with 2 Axes>"
      ]
     },
     "metadata": {
      "needs_background": "light"
     },
     "output_type": "display_data"
    }
   ],
   "source": [
    "sns.heatmap(test.corr(method='spearman'),cmap=\"copper\")"
   ]
  },
  {
   "cell_type": "code",
   "execution_count": 5,
   "id": "d842ca36",
   "metadata": {},
   "outputs": [],
   "source": [
    "train= train.dropna(axis =1)\n",
    "test= test.dropna(axis =1)"
   ]
  },
  {
   "cell_type": "code",
   "execution_count": 6,
   "id": "35d37161",
   "metadata": {},
   "outputs": [],
   "source": [
    "X1 = train[['Pressure','Flow Rate']].values\n",
    "X2 = test[['Pressure','Flow Rate']].values"
   ]
  },
  {
   "cell_type": "code",
   "execution_count": 7,
   "id": "c65dafa2",
   "metadata": {},
   "outputs": [],
   "source": [
    "y1 = train['Skin Factor'].values\n",
    "y2 = test['Skin Factor'].values"
   ]
  },
  {
   "cell_type": "code",
   "execution_count": 8,
   "id": "13fee170",
   "metadata": {},
   "outputs": [],
   "source": [
    "x1=X2\n",
    "x2= X1\n",
    "Y1= y2\n",
    "Y2=y1"
   ]
  },
  {
   "cell_type": "code",
   "execution_count": 9,
   "id": "18a6335f",
   "metadata": {},
   "outputs": [],
   "source": [
    "from sklearn.preprocessing import MinMaxScaler"
   ]
  },
  {
   "cell_type": "code",
   "execution_count": 10,
   "id": "47f9d2f8",
   "metadata": {},
   "outputs": [],
   "source": [
    "scaler = MinMaxScaler()"
   ]
  },
  {
   "cell_type": "code",
   "execution_count": 11,
   "id": "c42c91f0",
   "metadata": {},
   "outputs": [],
   "source": [
    "X1 = scaler.fit_transform(X1)"
   ]
  },
  {
   "cell_type": "code",
   "execution_count": 12,
   "id": "5d7153d0",
   "metadata": {},
   "outputs": [],
   "source": [
    "X2 = scaler.transform(X2)"
   ]
  },
  {
   "cell_type": "code",
   "execution_count": 13,
   "id": "2a8553bf",
   "metadata": {},
   "outputs": [],
   "source": [
    "from tensorflow.keras.models import Sequential\n",
    "from tensorflow.keras.layers import Dense"
   ]
  },
  {
   "cell_type": "code",
   "execution_count": 14,
   "id": "7c039022",
   "metadata": {},
   "outputs": [
    {
     "name": "stderr",
     "output_type": "stream",
     "text": [
      "C:\\Users\\11ana\\anaconda3\\lib\\site-packages\\xgboost\\compat.py:36: FutureWarning: pandas.Int64Index is deprecated and will be removed from pandas in a future version. Use pandas.Index with the appropriate dtype instead.\n",
      "  from pandas import MultiIndex, Int64Index\n"
     ]
    }
   ],
   "source": [
    "from xgboost import XGBRegressor"
   ]
  },
  {
   "cell_type": "code",
   "execution_count": 15,
   "id": "752e013c",
   "metadata": {},
   "outputs": [
    {
     "data": {
      "text/plain": [
       "XGBRegressor(base_score=0.5, booster='gbtree', colsample_bylevel=1,\n",
       "             colsample_bynode=1, colsample_bytree=1, enable_categorical=False,\n",
       "             gamma=0, gpu_id=-1, importance_type=None,\n",
       "             interaction_constraints='', learning_rate=0.300000012,\n",
       "             max_delta_step=0, max_depth=6, min_child_weight=1, missing=nan,\n",
       "             monotone_constraints='()', n_estimators=100, n_jobs=12,\n",
       "             num_parallel_tree=1, predictor='auto', random_state=0, reg_alpha=0,\n",
       "             reg_lambda=1, scale_pos_weight=1, subsample=1, tree_method='exact',\n",
       "             validate_parameters=1, verbosity=None)"
      ]
     },
     "execution_count": 15,
     "metadata": {},
     "output_type": "execute_result"
    }
   ],
   "source": [
    "model_rf = XGBRegressor()\n",
    "model_rf.fit(X1,y1)"
   ]
  },
  {
   "cell_type": "code",
   "execution_count": 16,
   "id": "02c26a0f",
   "metadata": {},
   "outputs": [
    {
     "data": {
      "text/plain": [
       "0.9999919444137968"
      ]
     },
     "execution_count": 16,
     "metadata": {},
     "output_type": "execute_result"
    }
   ],
   "source": [
    "model_rf.score(X1,y1)"
   ]
  },
  {
   "cell_type": "code",
   "execution_count": 17,
   "id": "41b321d6",
   "metadata": {},
   "outputs": [
    {
     "data": {
      "text/plain": [
       "0.7443650946536815"
      ]
     },
     "execution_count": 17,
     "metadata": {},
     "output_type": "execute_result"
    }
   ],
   "source": [
    "model_rf.score(X2,y2)"
   ]
  },
  {
   "cell_type": "code",
   "execution_count": 18,
   "id": "030eed2f",
   "metadata": {},
   "outputs": [],
   "source": [
    "from sklearn.model_selection import GridSearchCV"
   ]
  },
  {
   "cell_type": "code",
   "execution_count": 19,
   "id": "aa7c1a48",
   "metadata": {},
   "outputs": [],
   "source": [
    "Grid_para = {\n",
    "    \"n_estimators\" : [90,100,120,150],\n",
    "    \"min_samples_split\" : range(2,10,1),\n",
    "    \"min_samples_leaf\" : range(2,10,1),\n",
    "    \"max_depth\" : range(2,30,1)\n",
    "    \n",
    "}"
   ]
  },
  {
   "cell_type": "code",
   "execution_count": 20,
   "id": "9b7676bf",
   "metadata": {},
   "outputs": [],
   "source": [
    "grid = GridSearchCV(estimator = model_rf , param_grid = Grid_para ,n_jobs = -1 , verbose = 3)"
   ]
  },
  {
   "cell_type": "code",
   "execution_count": 21,
   "id": "a69f861f",
   "metadata": {},
   "outputs": [
    {
     "name": "stdout",
     "output_type": "stream",
     "text": [
      "Fitting 5 folds for each of 7168 candidates, totalling 35840 fits\n",
      "[00:29:44] WARNING: ..\\src\\learner.cc:576: \n",
      "Parameters: { \"min_samples_leaf\", \"min_samples_split\" } might not be used.\n",
      "\n",
      "  This could be a false alarm, with some parameters getting used by language bindings but\n",
      "  then being mistakenly passed down to XGBoost core, or some parameter actually being used\n",
      "  but getting flagged wrongly here. Please open an issue if you find any such cases.\n",
      "\n",
      "\n"
     ]
    },
    {
     "data": {
      "text/plain": [
       "GridSearchCV(estimator=XGBRegressor(base_score=0.5, booster='gbtree',\n",
       "                                    colsample_bylevel=1, colsample_bynode=1,\n",
       "                                    colsample_bytree=1,\n",
       "                                    enable_categorical=False, gamma=0,\n",
       "                                    gpu_id=-1, importance_type=None,\n",
       "                                    interaction_constraints='',\n",
       "                                    learning_rate=0.300000012, max_delta_step=0,\n",
       "                                    max_depth=6, min_child_weight=1,\n",
       "                                    missing=nan, monotone_constraints='()',\n",
       "                                    n_estimators=100, n_jobs=12,\n",
       "                                    num_parallel_tree=1, predictor='auto',\n",
       "                                    random_state=0, reg_alpha=0, reg_lambda=1,\n",
       "                                    scale_pos_weight=1, subsample=1,\n",
       "                                    tree_method='exact', validate_parameters=1,\n",
       "                                    verbosity=None),\n",
       "             n_jobs=-1,\n",
       "             param_grid={'max_depth': range(2, 30),\n",
       "                         'min_samples_leaf': range(2, 10),\n",
       "                         'min_samples_split': range(2, 10),\n",
       "                         'n_estimators': [90, 100, 120, 150]},\n",
       "             verbose=3)"
      ]
     },
     "execution_count": 21,
     "metadata": {},
     "output_type": "execute_result"
    }
   ],
   "source": [
    "grid.fit(X1,y1)"
   ]
  },
  {
   "cell_type": "code",
   "execution_count": 22,
   "id": "15d493df",
   "metadata": {},
   "outputs": [
    {
     "data": {
      "text/plain": [
       "{'max_depth': 3,\n",
       " 'min_samples_leaf': 2,\n",
       " 'min_samples_split': 2,\n",
       " 'n_estimators': 120}"
      ]
     },
     "execution_count": 22,
     "metadata": {},
     "output_type": "execute_result"
    }
   ],
   "source": [
    "grid.best_params_"
   ]
  },
  {
   "cell_type": "code",
   "execution_count": 23,
   "id": "d0aaa121",
   "metadata": {},
   "outputs": [],
   "source": [
    "model_rf = XGBRegressor( n_estimators = 120 , min_samples_split = 2, min_samples_leaf = 2 , max_depth = 3)"
   ]
  },
  {
   "cell_type": "code",
   "execution_count": 24,
   "id": "c0262b06",
   "metadata": {},
   "outputs": [
    {
     "name": "stdout",
     "output_type": "stream",
     "text": [
      "[00:32:20] WARNING: ..\\src\\learner.cc:576: \n",
      "Parameters: { \"min_samples_leaf\", \"min_samples_split\" } might not be used.\n",
      "\n",
      "  This could be a false alarm, with some parameters getting used by language bindings but\n",
      "  then being mistakenly passed down to XGBoost core, or some parameter actually being used\n",
      "  but getting flagged wrongly here. Please open an issue if you find any such cases.\n",
      "\n",
      "\n"
     ]
    },
    {
     "data": {
      "text/plain": [
       "XGBRegressor(base_score=0.5, booster='gbtree', colsample_bylevel=1,\n",
       "             colsample_bynode=1, colsample_bytree=1, enable_categorical=False,\n",
       "             gamma=0, gpu_id=-1, importance_type=None,\n",
       "             interaction_constraints='', learning_rate=0.300000012,\n",
       "             max_delta_step=0, max_depth=3, min_child_weight=1,\n",
       "             min_samples_leaf=2, min_samples_split=2, missing=nan,\n",
       "             monotone_constraints='()', n_estimators=120, n_jobs=12,\n",
       "             num_parallel_tree=1, predictor='auto', random_state=0, reg_alpha=0,\n",
       "             reg_lambda=1, scale_pos_weight=1, subsample=1, tree_method='exact',\n",
       "             validate_parameters=1, verbosity=None)"
      ]
     },
     "execution_count": 24,
     "metadata": {},
     "output_type": "execute_result"
    }
   ],
   "source": [
    "model_rf.fit(X1, y1)"
   ]
  },
  {
   "cell_type": "code",
   "execution_count": 25,
   "id": "1942d25c",
   "metadata": {},
   "outputs": [],
   "source": [
    "y_boost = model_rf.predict(X2)"
   ]
  },
  {
   "cell_type": "code",
   "execution_count": 26,
   "id": "bad7ff95",
   "metadata": {},
   "outputs": [
    {
     "name": "stdout",
     "output_type": "stream",
     "text": [
      "MAE: 0.29731493224225597\n",
      "MSE: 0.3645257286363971\n",
      "RMSE: 0.603759661319301\n",
      "R2: 0.8373661368672087\n"
     ]
    }
   ],
   "source": [
    "from sklearn import metrics\n",
    "\n",
    "print('MAE:', metrics.mean_absolute_error(y2, y_boost))\n",
    "print('MSE:', metrics.mean_squared_error(y2, y_boost))\n",
    "print('RMSE:', np.sqrt(metrics.mean_squared_error(y2, y_boost)))\n",
    "print('R2:', metrics.r2_score(y2, y_boost))"
   ]
  },
  {
   "cell_type": "code",
   "execution_count": 27,
   "id": "16a53067",
   "metadata": {},
   "outputs": [],
   "source": [
    "y2 = y2.reshape(56,1)"
   ]
  },
  {
   "cell_type": "code",
   "execution_count": 28,
   "id": "544dc080",
   "metadata": {},
   "outputs": [
    {
     "data": {
      "text/plain": [
       "array([[-4.4721503],\n",
       "       [-4.305317 ],\n",
       "       [-4.1181235],\n",
       "       [-3.9414418],\n",
       "       [-3.8069274],\n",
       "       [-3.6150048],\n",
       "       [-3.6692817],\n",
       "       [-3.3724039],\n",
       "       [-3.3724039],\n",
       "       [ 1.4908465],\n",
       "       [-3.445316 ],\n",
       "       [-2.7761958],\n",
       "       [-2.7624576],\n",
       "       [-2.8657043],\n",
       "       [-2.7123754],\n",
       "       [-2.7624576],\n",
       "       [-2.7624576],\n",
       "       [-2.6953454],\n",
       "       [-2.9521563],\n",
       "       [-3.2985847],\n",
       "       [-2.6912947],\n",
       "       [-2.655344 ],\n",
       "       [-2.655344 ],\n",
       "       [-2.655344 ],\n",
       "       [-2.655344 ],\n",
       "       [-2.655344 ],\n",
       "       [-2.655344 ],\n",
       "       [-2.6052618],\n",
       "       [-2.239553 ],\n",
       "       [-2.1605937],\n",
       "       [-2.1605937],\n",
       "       [-2.6052618],\n",
       "       [-2.6052618],\n",
       "       [-1.4655108],\n",
       "       [-2.6052618],\n",
       "       [-2.223304 ],\n",
       "       [-2.2436037],\n",
       "       [-2.2436037],\n",
       "       [-2.2436037],\n",
       "       [-2.2436037],\n",
       "       [ 1.433308 ],\n",
       "       [-2.219304 ],\n",
       "       [-2.655344 ],\n",
       "       [-2.7847874],\n",
       "       [-2.7787251],\n",
       "       [-2.6856987],\n",
       "       [-2.6864893],\n",
       "       [-2.6505387],\n",
       "       [-2.649748 ],\n",
       "       [-2.5996659],\n",
       "       [-2.5996659],\n",
       "       [-2.5943239],\n",
       "       [-2.214448 ],\n",
       "       [-2.1557884],\n",
       "       [-2.2347476],\n",
       "       [-2.2161329]], dtype=float32)"
      ]
     },
     "execution_count": 28,
     "metadata": {},
     "output_type": "execute_result"
    }
   ],
   "source": [
    "y_boost.reshape(56,1)"
   ]
  },
  {
   "cell_type": "code",
   "execution_count": 29,
   "id": "01453dbe",
   "metadata": {},
   "outputs": [],
   "source": [
    "X_Time = pd.DataFrame(X2, columns = ['Pressure', 'Flow Rate'])"
   ]
  },
  {
   "cell_type": "code",
   "execution_count": 30,
   "id": "b788352f",
   "metadata": {},
   "outputs": [],
   "source": [
    "y_boost = pd.Series(y_boost.reshape(56,))"
   ]
  },
  {
   "cell_type": "code",
   "execution_count": 31,
   "id": "37ceb33d",
   "metadata": {},
   "outputs": [],
   "source": [
    "pred_df = pd.DataFrame(y2, columns = ['Skin Factor'])"
   ]
  },
  {
   "cell_type": "code",
   "execution_count": 32,
   "id": "ca08bf09",
   "metadata": {},
   "outputs": [],
   "source": [
    "pred_df = pd.concat([pred_df,y_boost], axis =1)"
   ]
  },
  {
   "cell_type": "code",
   "execution_count": 33,
   "id": "5059c3f8",
   "metadata": {},
   "outputs": [],
   "source": [
    "pred_df.columns = ['Skin Factor', 'Model Predictions']"
   ]
  },
  {
   "cell_type": "code",
   "execution_count": 34,
   "id": "fa5ca36b",
   "metadata": {},
   "outputs": [],
   "source": [
    "pred_dfs = pd.concat([X_Time, pred_df], axis =1)"
   ]
  },
  {
   "cell_type": "code",
   "execution_count": 35,
   "id": "caacc380",
   "metadata": {},
   "outputs": [],
   "source": [
    "x1 = pd.DataFrame(x1, columns = ['Pressure','Flow Rate'])"
   ]
  },
  {
   "cell_type": "code",
   "execution_count": 36,
   "id": "6aef04bb",
   "metadata": {},
   "outputs": [],
   "source": [
    "pred_dfs = pd.concat([x1, pred_df], axis =1)"
   ]
  },
  {
   "cell_type": "code",
   "execution_count": 37,
   "id": "35d9c2a1",
   "metadata": {},
   "outputs": [
    {
     "data": {
      "text/plain": [
       "<seaborn.axisgrid.FacetGrid at 0x20b9754a3d0>"
      ]
     },
     "execution_count": 37,
     "metadata": {},
     "output_type": "execute_result"
    },
    {
     "data": {
      "image/png": "[encoded data removed]",
      "text/plain": [
       "<Figure size 360x360 with 1 Axes>"
      ]
     },
     "metadata": {
      "needs_background": "light"
     },
     "output_type": "display_data"
    }
   ],
   "source": [
    "sns.lmplot(x='Skin Factor',y='Model Predictions',data=pred_dfs)"
   ]
  },
  {
   "cell_type": "code",
   "execution_count": 38,
   "id": "64e788d2",
   "metadata": {},
   "outputs": [
    {
     "data": {
      "text/plain": [
       "<seaborn.axisgrid.JointGrid at 0x20b974ecc40>"
      ]
     },
     "execution_count": 38,
     "metadata": {},
     "output_type": "execute_result"
    },
    {
     "data": {
      "image/png": "[encoded data removed]",
      "text/plain": [
       "<Figure size 432x432 with 3 Axes>"
      ]
     },
     "metadata": {
      "needs_background": "light"
     },
     "output_type": "display_data"
    }
   ],
   "source": [
    "sns.jointplot(x='Skin Factor',y='Model Predictions',kind='hex',color= 'r', gridsize = 20, data=pred_dfs)"
   ]
  },
  {
   "cell_type": "code",
   "execution_count": null,
   "id": "32cd1750",
   "metadata": {},
   "outputs": [],
   "source": []
  }
 ],
 "metadata": {
  "kernelspec": {
   "display_name": "Python 3 (ipykernel)",
   "language": "python",
   "name": "python3"
  },
  "language_info": {
   "codemirror_mode": {
    "name": "ipython",
    "version": 3
   },
   "file_extension": ".py",
   "mimetype": "text/x-python",
   "name": "python",
   "nbconvert_exporter": "python",
   "pygments_lexer": "ipython3",
   "version": "3.9.12"
  }
 },
 "nbformat": 4,
 "nbformat_minor": 5
}
